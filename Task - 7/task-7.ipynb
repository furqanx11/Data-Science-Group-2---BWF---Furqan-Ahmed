{
 "cells": [
  {
   "cell_type": "markdown",
   "metadata": {},
   "source": [
    "## Task - 7 Library Management System utilizing OOP concepts"
   ]
  },
  {
   "cell_type": "markdown",
   "metadata": {},
   "source": [
    "##### The Book class represents a book with title, author, ISBN, and status attributes, and methods to display its information, mark it as borrowed, and mark it as returned."
   ]
  },
  {
   "cell_type": "code",
   "execution_count": 2,
   "metadata": {},
   "outputs": [],
   "source": [
    "class Book:\n",
    "    def __init__(self, title, author, isbn):\n",
    "        self.title = title\n",
    "        self.author = author\n",
    "        self.isbn = isbn\n",
    "        self.status = 'available'\n",
    "\n",
    "    def display_info(self):\n",
    "        print(f\"Title: {self.title}, Author: {self.author}, ISBN: {self.isbn}, Status: {self.status}\")\n",
    "\n",
    "    def mark_as_borrowed(self):\n",
    "        self.status = 'borrowed'\n",
    "\n",
    "    def mark_as_returned(self):\n",
    "        self.status = 'available'\n",
    "\n",
    "\n"
   ]
  },
  {
   "cell_type": "markdown",
   "metadata": {},
   "source": [
    "##### The Member class represents a library member with name, member ID, and a list of borrowed books, and methods to borrow a book, return a book, and display its information."
   ]
  },
  {
   "cell_type": "code",
   "execution_count": 3,
   "metadata": {},
   "outputs": [],
   "source": [
    "class Member:\n",
    "    def __init__(self, name, member_id):\n",
    "        self.name = name\n",
    "        self.member_id = member_id\n",
    "        self.borrowed_books = []\n",
    "\n",
    "    def borrow_book(self, book):\n",
    "        if book.status == 'available':\n",
    "            book.mark_as_borrowed()\n",
    "            self.borrowed_books.append(book)\n",
    "        else:\n",
    "            print(\"This book is currently unavailable.\")\n",
    "\n",
    "    def return_book(self, book):\n",
    "        book.mark_as_returned()\n",
    "        self.borrowed_books.remove(book)\n",
    "\n",
    "    def display_info(self):\n",
    "        print(f\"Name: {self.name}, Member ID: {self.member_id}\")\n",
    "        print(\"Borrowed Books:\")\n",
    "        for book in self.borrowed_books:\n",
    "            book.display_info()\n",
    "\n",
    "\n"
   ]
  },
  {
   "cell_type": "markdown",
   "metadata": {},
   "source": [
    "#### The Library class represents a library with a list of books and a list of members, and methods to add a book, register a member, issue a book, return a book, display all books, and display all members."
   ]
  },
  {
   "cell_type": "code",
   "execution_count": 5,
   "metadata": {},
   "outputs": [],
   "source": [
    "class Library:\n",
    "    def __init__(self):\n",
    "        self.books = []\n",
    "        self.members = []\n",
    "\n",
    "    def add_book(self, book):\n",
    "        self.books.append(book)\n",
    "\n",
    "    def register_member(self, member):\n",
    "        self.members.append(member)\n",
    "\n",
    "    def issue_book(self, member_id, isbn):\n",
    "        member = next((m for m in self.members if m.member_id == member_id), None)\n",
    "        book = next((b for b in self.books if b.isbn == isbn), None)\n",
    "        if member and book:\n",
    "            member.borrow_book(book)\n",
    "\n",
    "    def return_book(self, member_id, isbn):\n",
    "        member = next((m for m in self.members if m.member_id == member_id), None)\n",
    "        book = next((b for b in self.books if b.isbn == isbn), None)\n",
    "        if member and book:\n",
    "            member.return_book(book)\n",
    "\n",
    "    def display_all_books(self):\n",
    "        for book in self.books:\n",
    "            book.display_info()\n",
    "\n",
    "    def display_all_members(self):\n",
    "        for member in self.members:\n",
    "            member.display_info()\n",
    "\n",
    "\n"
   ]
  },
  {
   "cell_type": "markdown",
   "metadata": {},
   "source": [
    "#### Adding books to library"
   ]
  },
  {
   "cell_type": "code",
   "execution_count": 25,
   "metadata": {},
   "outputs": [],
   "source": [
    "library = Library()\n",
    "\n",
    "book1 = Book('Harry Potter', 'JK.Rowling', '001')\n",
    "book2 = Book('The Hobbit', 'John Ronald', '002')\n",
    "library.add_book(book1)\n",
    "library.add_book(book2)\n",
    "\n"
   ]
  },
  {
   "cell_type": "markdown",
   "metadata": {},
   "source": [
    "#### Adding members to system"
   ]
  },
  {
   "cell_type": "code",
   "execution_count": 26,
   "metadata": {},
   "outputs": [
    {
     "name": "stdout",
     "output_type": "stream",
     "text": [
      "Name: Furqan, Member ID: 01\n",
      "Borrowed Books:\n",
      "Name: Ahmed, Member ID: 02\n",
      "Borrowed Books:\n"
     ]
    }
   ],
   "source": [
    "member1 = Member('Furqan', '01')\n",
    "library.register_member(member1)\n",
    "\n",
    "member2 = Member('Ahmed', '02')\n",
    "library.register_member(member2)\n",
    "\n",
    "\n",
    "library.display_all_members()"
   ]
  },
  {
   "cell_type": "markdown",
   "metadata": {},
   "source": [
    "#### Issuing a book to a member"
   ]
  },
  {
   "cell_type": "code",
   "execution_count": 27,
   "metadata": {},
   "outputs": [
    {
     "name": "stdout",
     "output_type": "stream",
     "text": [
      "Title: Harry Potter, Author: JK.Rowling, ISBN: 001, Status: borrowed\n",
      "Title: The Hobbit, Author: John Ronald, ISBN: 002, Status: available\n"
     ]
    }
   ],
   "source": [
    "library.issue_book('01', '001')\n",
    "\n",
    "library.display_all_books()"
   ]
  },
  {
   "cell_type": "code",
   "execution_count": 28,
   "metadata": {},
   "outputs": [
    {
     "name": "stdout",
     "output_type": "stream",
     "text": [
      "Name: Furqan, Member ID: 01\n",
      "Borrowed Books:\n",
      "Title: Harry Potter, Author: JK.Rowling, ISBN: 001, Status: borrowed\n",
      "Name: Ahmed, Member ID: 02\n",
      "Borrowed Books:\n"
     ]
    }
   ],
   "source": [
    "library.display_all_members()"
   ]
  },
  {
   "cell_type": "markdown",
   "metadata": {},
   "source": [
    "#### Returning book back to library"
   ]
  },
  {
   "cell_type": "code",
   "execution_count": 29,
   "metadata": {},
   "outputs": [],
   "source": [
    "library.return_book('01', '001')"
   ]
  },
  {
   "cell_type": "code",
   "execution_count": 30,
   "metadata": {},
   "outputs": [
    {
     "name": "stdout",
     "output_type": "stream",
     "text": [
      "Title: Harry Potter, Author: JK.Rowling, ISBN: 001, Status: available\n",
      "Title: The Hobbit, Author: John Ronald, ISBN: 002, Status: available\n",
      "Name: Furqan, Member ID: 01\n",
      "Borrowed Books:\n",
      "Name: Ahmed, Member ID: 02\n",
      "Borrowed Books:\n"
     ]
    }
   ],
   "source": [
    "library.display_all_books()\n",
    "library.display_all_members()"
   ]
  }
 ],
 "metadata": {
  "kernelspec": {
   "display_name": "lab",
   "language": "python",
   "name": "python3"
  },
  "language_info": {
   "codemirror_mode": {
    "name": "ipython",
    "version": 3
   },
   "file_extension": ".py",
   "mimetype": "text/x-python",
   "name": "python",
   "nbconvert_exporter": "python",
   "pygments_lexer": "ipython3",
   "version": "3.12.3"
  }
 },
 "nbformat": 4,
 "nbformat_minor": 2
}
