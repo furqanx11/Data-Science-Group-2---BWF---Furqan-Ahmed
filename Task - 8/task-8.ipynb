{
 "cells": [
  {
   "cell_type": "markdown",
   "metadata": {},
   "source": [
    "## Task - 8 Inventory Management System using various data structures available"
   ]
  },
  {
   "cell_type": "markdown",
   "metadata": {},
   "source": [
    "#### The Inventory Management System uses a dictionary to store product details, a list to maintain the order of product additions, and a set to track unique categories. The add_product method adds a new product to the inventory, the update_stock method updates the stock level of a product, the display_products method displays all products, and the display_by_category method displays all products in a specific category."
   ]
  },
  {
   "cell_type": "code",
   "execution_count": 1,
   "metadata": {},
   "outputs": [],
   "source": [
    "class InventoryManagementSystem:\n",
    "    def __init__(self):\n",
    "        self.products = {}\n",
    "        self.product_order = []\n",
    "        self.categories = set()\n",
    "\n",
    "    def add_product(self, product_id, name, category, stock):\n",
    "        if product_id in self.products:\n",
    "            print(\"Error: Product ID already exists.\")\n",
    "            return\n",
    "        self.products[product_id] = {'name': name, 'category': category, 'stock': stock}\n",
    "        self.product_order.append(product_id)\n",
    "        self.categories.add(category)\n",
    "\n",
    "    def update_stock(self, product_id, quantity):\n",
    "        if product_id not in self.products:\n",
    "            print(\"Error: Product ID not found.\")\n",
    "            return\n",
    "        self.products[product_id]['stock'] += quantity\n",
    "\n",
    "    def display_products(self):\n",
    "        for product_id in self.product_order:\n",
    "            product = self.products[product_id]\n",
    "            print(f\"ID: {product_id}, Name: {product['name']}, Category: {product['category']}, Stock: {product['stock']}\")\n",
    "\n",
    "    def display_by_category(self, category):\n",
    "        for product_id in self.product_order:\n",
    "            product = self.products[product_id]\n",
    "            if product['category'] == category:\n",
    "                print(f\"ID: {product_id}, Name: {product['name']}, Category: {product['category']}, Stock: {product['stock']}\")\n",
    "\n"
   ]
  },
  {
   "cell_type": "markdown",
   "metadata": {},
   "source": [
    "#### Adding products to the system"
   ]
  },
  {
   "cell_type": "code",
   "execution_count": 3,
   "metadata": {},
   "outputs": [
    {
     "name": "stdout",
     "output_type": "stream",
     "text": [
      "ID: ID001, Name: Product1, Category: Category1, Stock: 50\n",
      "ID: ID002, Name: Product2, Category: Category2, Stock: 100\n",
      "ID: ID001, Name: Product1, Category: Category1, Stock: 50\n"
     ]
    }
   ],
   "source": [
    "ims = InventoryManagementSystem()\n",
    "ims.add_product('ID001', 'Product1', 'Category1', 50)\n",
    "ims.add_product('ID002', 'Product2', 'Category2', 100)\n",
    "ims.display_products()\n",
    "ims.display_by_category('Category1')"
   ]
  },
  {
   "cell_type": "markdown",
   "metadata": {},
   "source": [
    "#### Updating stock of existing product"
   ]
  },
  {
   "cell_type": "code",
   "execution_count": 4,
   "metadata": {},
   "outputs": [
    {
     "name": "stdout",
     "output_type": "stream",
     "text": [
      "ID: ID001, Name: Product1, Category: Category1, Stock: 70\n",
      "ID: ID002, Name: Product2, Category: Category2, Stock: 100\n"
     ]
    }
   ],
   "source": [
    "ims.update_stock('ID001', 20)\n",
    "ims.display_products()"
   ]
  }
 ],
 "metadata": {
  "kernelspec": {
   "display_name": "lab",
   "language": "python",
   "name": "python3"
  },
  "language_info": {
   "codemirror_mode": {
    "name": "ipython",
    "version": 3
   },
   "file_extension": ".py",
   "mimetype": "text/x-python",
   "name": "python",
   "nbconvert_exporter": "python",
   "pygments_lexer": "ipython3",
   "version": "3.12.3"
  }
 },
 "nbformat": 4,
 "nbformat_minor": 2
}
