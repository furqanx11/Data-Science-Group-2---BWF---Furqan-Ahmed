{
 "cells": [
  {
   "cell_type": "markdown",
   "metadata": {},
   "source": [
    "## Bytewise Data science task - 6"
   ]
  },
  {
   "cell_type": "markdown",
   "metadata": {},
   "source": [
    "#### StudentDatabase class handles the loading, saving, adding, deleting, searching, and displaying of student records. The add_student, delete_student, and search_student methods take a student_id as an argument, and the add_student method also takes the student's name, age, and grade. The display_students method prints all student records to the console."
   ]
  },
  {
   "cell_type": "code",
   "execution_count": 2,
   "metadata": {},
   "outputs": [],
   "source": [
    "import os\n",
    "class StudentDatabase:\n",
    "    def __init__(self, filename):\n",
    "        self.filename = filename\n",
    "        if os.path.exists(filename):\n",
    "            with open(filename, 'r') as f:\n",
    "                self.students = {}\n",
    "                for line in f:\n",
    "                    student_id, name, age, grade = line.strip().split(',')\n",
    "                    self.students[student_id] = {'name': name, 'age': age, 'grade': grade}\n",
    "        else:\n",
    "            self.students = {}\n",
    "\n",
    "    def save(self):\n",
    "        with open(self.filename, 'w') as f:\n",
    "            for student_id, info in self.students.items():\n",
    "                f.write(f\"{student_id},{info['name']},{info['age']},{info['grade']}\\n\")\n",
    "\n",
    "    def add_student(self, student_id, student_name, student_age, student_grade):\n",
    "        if student_id in self.students:\n",
    "            print(\"Error: Student ID already exists.\")\n",
    "            return\n",
    "        self.students[student_id] = {\n",
    "            'name': student_name,\n",
    "            'age': student_age,\n",
    "            'grade': student_grade\n",
    "        }\n",
    "        self.save()\n",
    "\n",
    "    def delete_student(self, student_id):\n",
    "        if student_id not in self.students:\n",
    "            print(\"Error: Student ID not found.\")\n",
    "            return\n",
    "        del self.students[student_id]\n",
    "        self.save()\n",
    "\n",
    "    def search_student(self, student_id):\n",
    "        return self.students.get(student_id, None)\n",
    "\n",
    "    def display_students(self):\n",
    "        for student_id, student_info in self.students.items():\n",
    "            print(f\"ID: {student_id}, Name: {student_info['name']}, Age: {student_info['age']}, Grade: {student_info['grade']}\")\n",
    "\n"
   ]
  },
  {
   "cell_type": "markdown",
   "metadata": {},
   "source": [
    "#### Adding data into file"
   ]
  },
  {
   "cell_type": "code",
   "execution_count": 3,
   "metadata": {},
   "outputs": [
    {
     "name": "stdout",
     "output_type": "stream",
     "text": [
      "ID: 001, Name: Furqan Ahmed, Age: 20, Grade: A\n",
      "ID: 002, Name: Ali, Age: 19, Grade: B\n"
     ]
    }
   ],
   "source": [
    "\n",
    "db = StudentDatabase('students.txt')\n",
    "db.add_student('001', 'Furqan Ahmed', '20', 'A')\n",
    "db.add_student('002', 'Ali', '19', 'B')\n",
    "db.display_students()\n"
   ]
  },
  {
   "cell_type": "markdown",
   "metadata": {},
   "source": [
    "#### Searching through student_id"
   ]
  },
  {
   "cell_type": "code",
   "execution_count": 4,
   "metadata": {},
   "outputs": [
    {
     "name": "stdout",
     "output_type": "stream",
     "text": [
      "{'name': 'Furqan Ahmed', 'age': '20', 'grade': 'A'}\n"
     ]
    }
   ],
   "source": [
    "print(db.search_student('001'))\n"
   ]
  },
  {
   "cell_type": "markdown",
   "metadata": {},
   "source": [
    "#### Stopping from adding duplicates"
   ]
  },
  {
   "cell_type": "code",
   "execution_count": 5,
   "metadata": {},
   "outputs": [
    {
     "name": "stdout",
     "output_type": "stream",
     "text": [
      "Error: Student ID already exists.\n"
     ]
    }
   ],
   "source": [
    "db.add_student('001', 'Abc', '1', 'C')"
   ]
  },
  {
   "cell_type": "markdown",
   "metadata": {},
   "source": [
    "#### Deleting record using student_id"
   ]
  },
  {
   "cell_type": "code",
   "execution_count": 6,
   "metadata": {},
   "outputs": [
    {
     "name": "stdout",
     "output_type": "stream",
     "text": [
      "ID: 002, Name: Ali, Age: 19, Grade: B\n"
     ]
    }
   ],
   "source": [
    "db.delete_student('001')\n",
    "db.display_students()"
   ]
  },
  {
   "cell_type": "code",
   "execution_count": null,
   "metadata": {},
   "outputs": [],
   "source": []
  }
 ],
 "metadata": {
  "kernelspec": {
   "display_name": "lab",
   "language": "python",
   "name": "python3"
  },
  "language_info": {
   "codemirror_mode": {
    "name": "ipython",
    "version": 3
   },
   "file_extension": ".py",
   "mimetype": "text/x-python",
   "name": "python",
   "nbconvert_exporter": "python",
   "pygments_lexer": "ipython3",
   "version": "3.12.3"
  }
 },
 "nbformat": 4,
 "nbformat_minor": 2
}
