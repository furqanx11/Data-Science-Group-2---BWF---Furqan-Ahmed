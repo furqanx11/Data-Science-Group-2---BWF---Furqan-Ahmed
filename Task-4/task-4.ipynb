{
 "cells": [
  {
   "cell_type": "markdown",
   "metadata": {},
   "source": [
    "## Bytewise Data science task - 4"
   ]
  },
  {
   "cell_type": "code",
   "execution_count": 4,
   "metadata": {},
   "outputs": [
    {
     "name": "stdout",
     "output_type": "stream",
     "text": [
      "First number: 15.0\n",
      "Second number: 5.0\n",
      "Sum: 20.0\n",
      "Difference: 10.0\n",
      "Product: 75.0\n",
      "Quotient: 3.0\n"
     ]
    }
   ],
   "source": [
    "num1 = float(input(\"Enter first number: \"))\n",
    "num2 = float(input(\"Enter second number: \"))\n",
    "\n",
    "sum = num1 + num2\n",
    "diff = num1 - num2\n",
    "product = num1 * num2\n",
    "quotient = num1 / num2 if num2 != 0 else \"Undefined\"\n",
    "\n",
    "print(f\"First number: {num1}\")\n",
    "print(f\"Second number: {num2}\")\n",
    "print(f\"Sum: {sum}\")\n",
    "print(f\"Difference: {diff}\")\n",
    "print(f\"Product: {product}\")\n",
    "print(f\"Quotient: {quotient}\")"
   ]
  },
  {
   "cell_type": "code",
   "execution_count": null,
   "metadata": {},
   "outputs": [],
   "source": []
  }
 ],
 "metadata": {
  "kernelspec": {
   "display_name": "lab",
   "language": "python",
   "name": "python3"
  },
  "language_info": {
   "codemirror_mode": {
    "name": "ipython",
    "version": 3
   },
   "file_extension": ".py",
   "mimetype": "text/x-python",
   "name": "python",
   "nbconvert_exporter": "python",
   "pygments_lexer": "ipython3",
   "version": "3.12.3"
  }
 },
 "nbformat": 4,
 "nbformat_minor": 2
}
